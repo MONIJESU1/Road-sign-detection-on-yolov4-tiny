{
 "cells": [
  {
   "cell_type": "code",
   "execution_count": 1,
   "id": "0d885c76",
   "metadata": {},
   "outputs": [
    {
     "name": "stderr",
     "output_type": "stream",
     "text": [
      "2023-03-13 22:35:24.412298: I tensorflow/core/platform/cpu_feature_guard.cc:193] This TensorFlow binary is optimized with oneAPI Deep Neural Network Library (oneDNN) to use the following CPU instructions in performance-critical operations:  AVX2 FMA\n",
      "To enable them in other operations, rebuild TensorFlow with the appropriate compiler flags.\n",
      "2023-03-13 22:35:25.284474: W tensorflow/compiler/xla/stream_executor/platform/default/dso_loader.cc:64] Could not load dynamic library 'libnvinfer.so.7'; dlerror: libnvinfer.so.7: cannot open shared object file: No such file or directory; LD_LIBRARY_PATH: /home/monijesu/.local/lib/python3.10/site-packages/cv2/../../lib64:\n",
      "2023-03-13 22:35:25.284559: W tensorflow/compiler/xla/stream_executor/platform/default/dso_loader.cc:64] Could not load dynamic library 'libnvinfer_plugin.so.7'; dlerror: libnvinfer_plugin.so.7: cannot open shared object file: No such file or directory; LD_LIBRARY_PATH: /home/monijesu/.local/lib/python3.10/site-packages/cv2/../../lib64:\n",
      "2023-03-13 22:35:25.284568: W tensorflow/compiler/tf2tensorrt/utils/py_utils.cc:38] TF-TRT Warning: Cannot dlopen some TensorRT libraries. If you would like to use Nvidia GPU with TensorRT, please make sure the missing libraries mentioned above are installed properly.\n"
     ]
    }
   ],
   "source": [
    "import numpy as np \n",
    "import pandas as pd \n",
    "import matplotlib.pyplot as plt\n",
    "import cv2\n",
    "import tensorflow as tf\n",
    "from PIL import Image\n",
    "import os\n",
    "from keras.preprocessing.image import ImageDataGenerator\n",
    "from keras.models import Sequential, load_model\n",
    "from keras.layers import Conv2D, MaxPool2D, MaxPooling2D, Dense, Flatten, Dropout\n",
    "from tensorflow.keras.applications.mobilenet_v2 import MobileNetV2"
   ]
  },
  {
   "cell_type": "code",
   "execution_count": 2,
   "id": "e7c4575a",
   "metadata": {},
   "outputs": [
    {
     "data": {
      "text/plain": [
       "(   ClassId              Name\n",
       " 0        0              Stop\n",
       " 1        1          No entry\n",
       " 2        2  Turn right ahead\n",
       " 3        3   Turn left ahead,\n",
       " Index(['ClassId', 'Name'], dtype='object'),\n",
       " array([0, 1, 2, 3]))"
      ]
     },
     "execution_count": 2,
     "metadata": {},
     "output_type": "execute_result"
    }
   ],
   "source": [
    "labels = pd.read_csv('/home/monijesu/Documents/Project/anolabels.csv')\n",
    "labels.head(), labels.columns, labels['ClassId'].unique()"
   ]
  },
  {
   "cell_type": "code",
   "execution_count": 3,
   "id": "ad4a65d6",
   "metadata": {},
   "outputs": [
    {
     "data": {
      "text/plain": [
       "array(['Stop', 'No entry', 'Turn right ahead', 'Turn left ahead'],\n",
       "      dtype=object)"
      ]
     },
     "execution_count": 3,
     "metadata": {},
     "output_type": "execute_result"
    }
   ],
   "source": [
    "labels['Name'].values"
   ]
  },
  {
   "cell_type": "code",
   "execution_count": 4,
   "id": "ab206a0c",
   "metadata": {},
   "outputs": [
    {
     "data": {
      "image/png": "[encoded data removed]",
      "text/plain": [
       "<Figure size 640x480 with 1 Axes>"
      ]
     },
     "metadata": {},
     "output_type": "display_data"
    }
   ],
   "source": [
    "img = cv2.imread('/home/monijesu/Documents/Project/ourData/0/14_29220_1577672016.5557714.png')\n",
    "plt.imshow(img);"
   ]
  },
  {
   "cell_type": "code",
   "execution_count": 5,
   "id": "71453f6c",
   "metadata": {},
   "outputs": [
    {
     "name": "stdout",
     "output_type": "stream",
     "text": [
      "Found 2639 images belonging to 4 classes.\n"
     ]
    }
   ],
   "source": [
    "DataGenerator = ImageDataGenerator( horizontal_flip=True,\n",
    "                                   shear_range=0.2,\n",
    "                                  rescale= 1./255,\n",
    "                                  zoom_range=0.2,)\n",
    "train_dir='/home/monijesu/Documents/Project/ourData'\n",
    "\n",
    "\n",
    "train_set = DataGenerator.flow_from_directory(\n",
    "        train_dir,\n",
    "        target_size=(224,224),\n",
    "        batch_size=32,\n",
    "        shuffle = False,\n",
    "        seed = 42,\n",
    "        class_mode = \"categorical\")\n"
   ]
  },
  {
   "cell_type": "code",
   "execution_count": 8,
   "id": "4ff7dc31",
   "metadata": {},
   "outputs": [
    {
     "name": "stdout",
     "output_type": "stream",
     "text": [
      "Model: \"sequential_1\"\n",
      "_________________________________________________________________\n",
      " Layer (type)                Output Shape              Param #   \n",
      "=================================================================\n",
      " mobilenetv2_1.00_224 (Funct  (None, 7, 7, 1280)       2257984   \n",
      " ional)                                                          \n",
      "                                                                 \n",
      " flatten_1 (Flatten)         (None, 62720)             0         \n",
      "                                                                 \n",
      " dense_1 (Dense)             (None, 4)                 250884    \n",
      "                                                                 \n",
      "=================================================================\n",
      "Total params: 2,508,868\n",
      "Trainable params: 250,884\n",
      "Non-trainable params: 2,257,984\n",
      "_________________________________________________________________\n"
     ]
    }
   ],
   "source": [
    "from keras.callbacks import ModelCheckpoint, EarlyStopping\n",
    "\n",
    "# early stopping\n",
    "es = EarlyStopping(monitor='val_accuracy', min_delta= 0.01 , patience= 5, verbose= 1, mode='auto')\n",
    "#earlystopping = EarlyStopping(monitor =\"val_loss\",mode =\"min\", patience = 6, restore_best_weights = True, verbose=1)\n",
    "\n",
    "# model check point\n",
    "mc = ModelCheckpoint(filepath=\"best_model.h5\", monitor= 'val_accuracy', verbose= 1, save_best_only= True, mode = 'auto')\n",
    "\n",
    "# puting call back in a list \n",
    "call_back = [es, mc]\n",
    "\n",
    "\n",
    "mobilenet = MobileNetV2(input_shape=(224,224,3),weights = \"imagenet\", include_top = False)\n",
    "\n",
    "for layer in mobilenet.layers:\n",
    "    layer.trainable = False\n",
    "    \n",
    "\n",
    "model = Sequential()\n",
    "model.add(mobilenet)\n",
    "model.add(Flatten())\n",
    "model.add(Dense(4,activation='softmax'))\n",
    "model.summary()\n",
    "\n",
    "model.compile(optimizer='adam',loss='categorical_crossentropy',metrics = ['accuracy'])"
   ]
  },
  {
   "cell_type": "code",
   "execution_count": 9,
   "id": "cd95e3de",
   "metadata": {},
   "outputs": [
    {
     "name": "stdout",
     "output_type": "stream",
     "text": [
      "Epoch 1/10\n"
     ]
    },
    {
     "name": "stderr",
     "output_type": "stream",
     "text": [
      "2023-03-13 22:47:15.116929: W tensorflow/tsl/framework/cpu_allocator_impl.cc:82] Allocation of 154140672 exceeds 10% of free system memory.\n",
      "2023-03-13 22:47:15.152835: W tensorflow/tsl/framework/cpu_allocator_impl.cc:82] Allocation of 156905472 exceeds 10% of free system memory.\n"
     ]
    },
    {
     "name": "stdout",
     "output_type": "stream",
     "text": [
      "\r",
      " 1/83 [..............................] - ETA: 3:50 - loss: 1.3166 - accuracy: 0.4062"
     ]
    },
    {
     "name": "stderr",
     "output_type": "stream",
     "text": [
      "2023-03-13 22:47:15.626954: W tensorflow/tsl/framework/cpu_allocator_impl.cc:82] Allocation of 154140672 exceeds 10% of free system memory.\n"
     ]
    },
    {
     "name": "stdout",
     "output_type": "stream",
     "text": [
      "83/83 [==============================] - ETA: 0s - loss: 7.6094 - accuracy: 0.7696WARNING:tensorflow:Early stopping conditioned on metric `val_accuracy` which is not available. Available metrics are: loss,accuracy\n",
      "WARNING:tensorflow:Can save best model only with val_accuracy available, skipping.\n",
      "83/83 [==============================] - 52s 605ms/step - loss: 7.6094 - accuracy: 0.7696\n",
      "Epoch 2/10\n",
      "83/83 [==============================] - ETA: 0s - loss: 1.4810 - accuracy: 0.9140WARNING:tensorflow:Early stopping conditioned on metric `val_accuracy` which is not available. Available metrics are: loss,accuracy\n",
      "WARNING:tensorflow:Can save best model only with val_accuracy available, skipping.\n",
      "83/83 [==============================] - 54s 650ms/step - loss: 1.4810 - accuracy: 0.9140\n",
      "Epoch 3/10\n",
      "83/83 [==============================] - ETA: 0s - loss: 3.6791 - accuracy: 0.8848WARNING:tensorflow:Early stopping conditioned on metric `val_accuracy` which is not available. Available metrics are: loss,accuracy\n",
      "WARNING:tensorflow:Can save best model only with val_accuracy available, skipping.\n",
      "83/83 [==============================] - 56s 667ms/step - loss: 3.6791 - accuracy: 0.8848\n",
      "Epoch 4/10\n",
      "83/83 [==============================] - ETA: 0s - loss: 4.1669 - accuracy: 0.8844WARNING:tensorflow:Early stopping conditioned on metric `val_accuracy` which is not available. Available metrics are: loss,accuracy\n",
      "WARNING:tensorflow:Can save best model only with val_accuracy available, skipping.\n",
      "83/83 [==============================] - 57s 680ms/step - loss: 4.1669 - accuracy: 0.8844\n",
      "Epoch 5/10\n",
      "83/83 [==============================] - ETA: 0s - loss: 1.8001 - accuracy: 0.9341WARNING:tensorflow:Early stopping conditioned on metric `val_accuracy` which is not available. Available metrics are: loss,accuracy\n",
      "WARNING:tensorflow:Can save best model only with val_accuracy available, skipping.\n",
      "83/83 [==============================] - 56s 676ms/step - loss: 1.8001 - accuracy: 0.9341\n",
      "Epoch 6/10\n",
      "83/83 [==============================] - ETA: 0s - loss: 0.7681 - accuracy: 0.9500WARNING:tensorflow:Early stopping conditioned on metric `val_accuracy` which is not available. Available metrics are: loss,accuracy\n",
      "WARNING:tensorflow:Can save best model only with val_accuracy available, skipping.\n",
      "83/83 [==============================] - 58s 691ms/step - loss: 0.7681 - accuracy: 0.9500\n",
      "Epoch 7/10\n",
      "83/83 [==============================] - ETA: 0s - loss: 0.3332 - accuracy: 0.9757WARNING:tensorflow:Early stopping conditioned on metric `val_accuracy` which is not available. Available metrics are: loss,accuracy\n",
      "WARNING:tensorflow:Can save best model only with val_accuracy available, skipping.\n",
      "83/83 [==============================] - 60s 718ms/step - loss: 0.3332 - accuracy: 0.9757\n",
      "Epoch 8/10\n",
      "83/83 [==============================] - ETA: 0s - loss: 7.8658 - accuracy: 0.8647WARNING:tensorflow:Early stopping conditioned on metric `val_accuracy` which is not available. Available metrics are: loss,accuracy\n",
      "WARNING:tensorflow:Can save best model only with val_accuracy available, skipping.\n",
      "83/83 [==============================] - 59s 704ms/step - loss: 7.8658 - accuracy: 0.8647\n",
      "Epoch 9/10\n",
      "83/83 [==============================] - ETA: 0s - loss: 1.1976 - accuracy: 0.9568WARNING:tensorflow:Early stopping conditioned on metric `val_accuracy` which is not available. Available metrics are: loss,accuracy\n",
      "WARNING:tensorflow:Can save best model only with val_accuracy available, skipping.\n",
      "83/83 [==============================] - 57s 687ms/step - loss: 1.1976 - accuracy: 0.9568\n",
      "Epoch 10/10\n",
      "83/83 [==============================] - ETA: 0s - loss: 0.4049 - accuracy: 0.9773WARNING:tensorflow:Early stopping conditioned on metric `val_accuracy` which is not available. Available metrics are: loss,accuracy\n",
      "WARNING:tensorflow:Can save best model only with val_accuracy available, skipping.\n",
      "83/83 [==============================] - 59s 704ms/step - loss: 0.4049 - accuracy: 0.9773\n"
     ]
    }
   ],
   "source": [
    "mobilenet_hist = model.fit(train_set,epochs=10,callbacks=[es,mc])"
   ]
  },
  {
   "cell_type": "code",
   "execution_count": 10,
   "id": "afeeebe3",
   "metadata": {},
   "outputs": [
    {
     "data": {
      "image/png": "[encoded data removed]",
      "text/plain": [
       "<Figure size 640x480 with 1 Axes>"
      ]
     },
     "metadata": {},
     "output_type": "display_data"
    }
   ],
   "source": [
    "hist = mobilenet_hist.history\n",
    "plt.plot(hist['accuracy'])\n",
    "plt.plot(hist['loss'] , c = \"red\")\n",
    "plt.legend(['accuracy', 'loss'], loc='upper right')\n",
    "plt.title(\"acc vs loss of MobileNet Traffic Model\")\n",
    "plt.show()"
   ]
  },
  {
   "cell_type": "code",
   "execution_count": null,
   "id": "0212d43f",
   "metadata": {},
   "outputs": [],
   "source": []
  }
 ],
 "metadata": {
  "kernelspec": {
   "display_name": "Python 3 (ipykernel)",
   "language": "python",
   "name": "python3"
  },
  "language_info": {
   "codemirror_mode": {
    "name": "ipython",
    "version": 3
   },
   "file_extension": ".py",
   "mimetype": "text/x-python",
   "name": "python",
   "nbconvert_exporter": "python",
   "pygments_lexer": "ipython3",
   "version": "3.10.6"
  }
 },
 "nbformat": 4,
 "nbformat_minor": 5
}
